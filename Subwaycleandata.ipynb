{
 "cells": [
  {
   "cell_type": "code",
   "execution_count": 1,
   "metadata": {},
   "outputs": [],
   "source": [
    "import json\n",
    "import pandas as pd\n",
    "import folium\n",
    "import matplotlib.pyplot as plt\n",
    "import seaborn as sns\n",
    "import datetime\n",
    "from pandas.tseries.holiday import USFederalHolidayCalendar as calendar\n",
    "import pandas as pd\n",
    "import pyarrow as pa\n",
    "import pyarrow.csv as pv"
   ]
  },
  {
   "cell_type": "code",
   "execution_count": 2,
   "id": "5478d088",
   "metadata": {},
   "outputs": [],
   "source": [
    "mta= pd.read_csv('MTA_Subway_Hourly_Ridership__Beginning_February_2022.csv')"
   ]
  },
  {
   "cell_type": "markdown",
   "id": "74c8b330",
   "metadata": {},
   "source": [
    "Got the csv file from here but is only from febuary because they did it differently in january which is a pain here is link\n",
    "\n",
    "https://data.ny.gov/Transportation/MTA-Subway-Hourly-Ridership-Beginning-February-202/wujg-7c2s"
   ]
  },
  {
   "cell_type": "code",
   "execution_count": 3,
   "id": "4c1809c5",
   "metadata": {},
   "outputs": [
    {
     "data": {
      "text/plain": [
       "(5015198, 11)"
      ]
     },
     "execution_count": 3,
     "metadata": {},
     "output_type": "execute_result"
    }
   ],
   "source": [
    "mta.shape"
   ]
  },
  {
   "cell_type": "code",
   "execution_count": 4,
   "id": "260ea569",
   "metadata": {},
   "outputs": [
    {
     "data": {
      "text/plain": [
       "Index(['transit_timestamp', 'station_complex_id', 'station_complex', 'borough',\n",
       "       'routes', 'payment_method', 'ridership', 'transfers', 'latitude',\n",
       "       'longitude', 'Georeference'],\n",
       "      dtype='object')"
      ]
     },
     "execution_count": 4,
     "metadata": {},
     "output_type": "execute_result"
    }
   ],
   "source": [
    "mta.columns"
   ]
  },
  {
   "cell_type": "code",
   "execution_count": 5,
   "id": "a6fd248c",
   "metadata": {},
   "outputs": [
    {
     "data": {
      "text/plain": [
       "<bound method NDFrame.head of               transit_timestamp station_complex_id  station_complex borough  \\\n",
       "0        06/18/2023 07:00:00 PM               H023    DeKalb Av (L)      BK   \n",
       "1        06/18/2023 11:00:00 AM               C014  Prospect Av (R)      BK   \n",
       "2        01/24/2023 10:00:00 PM               R252       103 St (6)       M   \n",
       "3        09/05/2022 11:00:00 AM               R252       103 St (6)       M   \n",
       "4        05/08/2022 10:00:00 PM               R170       103 St (1)       M   \n",
       "...                         ...                ...              ...     ...   \n",
       "5015193  03/15/2023 05:00:00 PM               R419    Zerega Av (6)      BX   \n",
       "5015194  04/25/2023 12:00:00 AM               R419    Zerega Av (6)      BX   \n",
       "5015195  05/12/2023 01:00:00 PM               R419    Zerega Av (6)      BX   \n",
       "5015196  06/04/2023 05:00:00 AM               R419    Zerega Av (6)      BX   \n",
       "5015197  04/23/2023 04:00:00 AM               R419    Zerega Av (6)      BX   \n",
       "\n",
       "        routes payment_method  ridership  transfers   latitude  longitude  \\\n",
       "0            L            all        232          4  40.703810 -73.918430   \n",
       "1            R            all        180          0  40.665413 -73.992874   \n",
       "2            6            all         86          0  40.790600 -73.947480   \n",
       "3            6            all        205          0  40.790600 -73.947480   \n",
       "4            1            all        133          0  40.799446 -73.968376   \n",
       "...        ...            ...        ...        ...        ...        ...   \n",
       "5015193      6            all         98          0  40.836487 -73.847040   \n",
       "5015194      6            all          1          0  40.836487 -73.847040   \n",
       "5015195      6            all         50          1  40.836487 -73.847040   \n",
       "5015196      6            all         31          0  40.836487 -73.847040   \n",
       "5015197      6            all          4          0  40.836487 -73.847040   \n",
       "\n",
       "                         Georeference  \n",
       "0          POINT (-73.91843 40.70381)  \n",
       "1        POINT (-73.992874 40.665413)  \n",
       "2           POINT (-73.94748 40.7906)  \n",
       "3           POINT (-73.94748 40.7906)  \n",
       "4        POINT (-73.968376 40.799446)  \n",
       "...                               ...  \n",
       "5015193   POINT (-73.84704 40.836487)  \n",
       "5015194   POINT (-73.84704 40.836487)  \n",
       "5015195   POINT (-73.84704 40.836487)  \n",
       "5015196   POINT (-73.84704 40.836487)  \n",
       "5015197   POINT (-73.84704 40.836487)  \n",
       "\n",
       "[5015198 rows x 11 columns]>"
      ]
     },
     "execution_count": 5,
     "metadata": {},
     "output_type": "execute_result"
    }
   ],
   "source": [
    "mta.head"
   ]
  },
  {
   "cell_type": "markdown",
   "id": "4a74b154",
   "metadata": {},
   "source": [
    "### Checking for logical test so just duplicates and null values.Along with ensuring borough will be same kind of thing like all lowercase"
   ]
  },
  {
   "cell_type": "code",
   "execution_count": 6,
   "id": "87c7f5be",
   "metadata": {},
   "outputs": [
    {
     "name": "stdout",
     "output_type": "stream",
     "text": [
      "Number of duplicates: 0\n",
      "Number of null values: 0\n"
     ]
    }
   ],
   "source": [
    "# Checking for duplicates\n",
    "num_duplicates = mta.duplicated().sum()\n",
    "print(\"Number of duplicates:\", num_duplicates)\n",
    "\n",
    "# Checking for null values\n",
    "num_null_values = mta.isnull().sum().sum()\n",
    "print(\"Number of null values:\", num_null_values)\n"
   ]
  },
  {
   "cell_type": "code",
   "execution_count": 7,
   "id": "0d556dac",
   "metadata": {},
   "outputs": [],
   "source": [
    "#Standarise the data just to ensure its ok and all are same \n",
    "mta['borough'] = mta['borough'].str.lower()"
   ]
  },
  {
   "cell_type": "code",
   "execution_count": 8,
   "id": "8c00bcae",
   "metadata": {},
   "outputs": [],
   "source": [
    "columns_to_drop = ['payment_method', 'ridership', 'transfers','Georeference','station_complex_id']\n",
    "\n",
    "df = mta.drop(columns=columns_to_drop)\n"
   ]
  },
  {
   "cell_type": "code",
   "execution_count": 9,
   "id": "8a6eb833",
   "metadata": {},
   "outputs": [
    {
     "data": {
      "text/plain": [
       "<bound method NDFrame.head of               transit_timestamp  station_complex borough routes   latitude  \\\n",
       "0        06/18/2023 07:00:00 PM    DeKalb Av (L)      bk      L  40.703810   \n",
       "1        06/18/2023 11:00:00 AM  Prospect Av (R)      bk      R  40.665413   \n",
       "2        01/24/2023 10:00:00 PM       103 St (6)       m      6  40.790600   \n",
       "3        09/05/2022 11:00:00 AM       103 St (6)       m      6  40.790600   \n",
       "4        05/08/2022 10:00:00 PM       103 St (1)       m      1  40.799446   \n",
       "...                         ...              ...     ...    ...        ...   \n",
       "5015193  03/15/2023 05:00:00 PM    Zerega Av (6)      bx      6  40.836487   \n",
       "5015194  04/25/2023 12:00:00 AM    Zerega Av (6)      bx      6  40.836487   \n",
       "5015195  05/12/2023 01:00:00 PM    Zerega Av (6)      bx      6  40.836487   \n",
       "5015196  06/04/2023 05:00:00 AM    Zerega Av (6)      bx      6  40.836487   \n",
       "5015197  04/23/2023 04:00:00 AM    Zerega Av (6)      bx      6  40.836487   \n",
       "\n",
       "         longitude  \n",
       "0       -73.918430  \n",
       "1       -73.992874  \n",
       "2       -73.947480  \n",
       "3       -73.947480  \n",
       "4       -73.968376  \n",
       "...            ...  \n",
       "5015193 -73.847040  \n",
       "5015194 -73.847040  \n",
       "5015195 -73.847040  \n",
       "5015196 -73.847040  \n",
       "5015197 -73.847040  \n",
       "\n",
       "[5015198 rows x 6 columns]>"
      ]
     },
     "execution_count": 9,
     "metadata": {},
     "output_type": "execute_result"
    }
   ],
   "source": [
    "df.head"
   ]
  },
  {
   "cell_type": "code",
   "execution_count": 10,
   "id": "b3944677",
   "metadata": {},
   "outputs": [
    {
     "data": {
      "text/plain": [
       "<bound method Series.unique of 0          bk\n",
       "1          bk\n",
       "2           m\n",
       "3           m\n",
       "4           m\n",
       "           ..\n",
       "5015193    bx\n",
       "5015194    bx\n",
       "5015195    bx\n",
       "5015196    bx\n",
       "5015197    bx\n",
       "Name: borough, Length: 5015198, dtype: object>"
      ]
     },
     "execution_count": 10,
     "metadata": {},
     "output_type": "execute_result"
    }
   ],
   "source": [
    "df['borough'].unique"
   ]
  },
  {
   "cell_type": "markdown",
   "id": "d70863e9",
   "metadata": {},
   "source": [
    "I only wanted borough of Manhattan so just to see what manhattan borough would be so filter it to that. "
   ]
  },
  {
   "cell_type": "code",
   "execution_count": 11,
   "id": "63ef70ef",
   "metadata": {},
   "outputs": [],
   "source": [
    "# Assuming 'df' is the DataFrame you are working with\n",
    "df = df[df['borough'] == 'm'].drop('borough', axis=1)"
   ]
  },
  {
   "cell_type": "code",
   "execution_count": 12,
   "id": "9f67e07c",
   "metadata": {},
   "outputs": [
    {
     "data": {
      "text/plain": [
       "<bound method NDFrame.head of               transit_timestamp                          station_complex  \\\n",
       "2        01/24/2023 10:00:00 PM                               103 St (6)   \n",
       "3        09/05/2022 11:00:00 AM                               103 St (6)   \n",
       "4        05/08/2022 10:00:00 PM                               103 St (1)   \n",
       "5        05/03/2022 10:00:00 PM                                 1 Av (L)   \n",
       "6        01/28/2023 06:00:00 PM                                 1 Av (L)   \n",
       "...                         ...                                      ...   \n",
       "4880452  10/29/2022 06:00:00 AM  West 4 St-Washington Sq (A,B,C,D,E,F,M)   \n",
       "4880453  01/27/2023 10:00:00 AM                            Wall St (4,5)   \n",
       "4880455  07/15/2022 05:00:00 AM                            Wall St (4,5)   \n",
       "4880456  02/27/2023 06:00:00 AM  West 4 St-Washington Sq (A,B,C,D,E,F,M)   \n",
       "4880458  11/30/2022 08:00:00 PM                            Wall St (4,5)   \n",
       "\n",
       "                routes   latitude  longitude  \n",
       "2                    6  40.790600 -73.947480  \n",
       "3                    6  40.790600 -73.947480  \n",
       "4                    1  40.799446 -73.968376  \n",
       "5                    L  40.730953 -73.981630  \n",
       "6                    L  40.730953 -73.981630  \n",
       "...                ...        ...        ...  \n",
       "4880452  F,M,C,E,B,A,D  40.732338 -74.000496  \n",
       "4880453            5,4  40.707558 -74.011860  \n",
       "4880455            5,4  40.707558 -74.011860  \n",
       "4880456  F,M,C,E,B,A,D  40.732338 -74.000496  \n",
       "4880458            5,4  40.707558 -74.011860  \n",
       "\n",
       "[1435991 rows x 5 columns]>"
      ]
     },
     "execution_count": 12,
     "metadata": {},
     "output_type": "execute_result"
    }
   ],
   "source": [
    "df.head"
   ]
  },
  {
   "cell_type": "code",
   "execution_count": null,
   "id": "ca5abbc8",
   "metadata": {},
   "outputs": [],
   "source": [
    "# Assuming 'df' is the DataFrame you are working with\n",
    "df['coordinates'] = df[['latitude', 'longitude']].astype(str).apply(lambda x: ' '.join(x), axis=1)\n",
    "\n",
    "# Get unique coordinates\n",
    "unique_coordinates = df[['latitude', 'longitude']].drop_duplicates()"
   ]
  },
  {
   "cell_type": "code",
   "execution_count": 16,
   "id": "92ada1a3",
   "metadata": {},
   "outputs": [
    {
     "data": {
      "text/plain": [
       "(1435991, 5)"
      ]
     },
     "execution_count": 16,
     "metadata": {},
     "output_type": "execute_result"
    }
   ],
   "source": [
    "df.shape"
   ]
  },
  {
   "cell_type": "code",
   "execution_count": 17,
   "id": "4d55e6e9",
   "metadata": {},
   "outputs": [
    {
     "data": {
      "text/plain": [
       "<bound method NDFrame.head of               transit_timestamp                          station_complex  \\\n",
       "2        01/24/2023 10:00:00 PM                               103 St (6)   \n",
       "3        09/05/2022 11:00:00 AM                               103 St (6)   \n",
       "4        05/08/2022 10:00:00 PM                               103 St (1)   \n",
       "5        05/03/2022 10:00:00 PM                                 1 Av (L)   \n",
       "6        01/28/2023 06:00:00 PM                                 1 Av (L)   \n",
       "...                         ...                                      ...   \n",
       "4880452  10/29/2022 06:00:00 AM  West 4 St-Washington Sq (A,B,C,D,E,F,M)   \n",
       "4880453  01/27/2023 10:00:00 AM                            Wall St (4,5)   \n",
       "4880455  07/15/2022 05:00:00 AM                            Wall St (4,5)   \n",
       "4880456  02/27/2023 06:00:00 AM  West 4 St-Washington Sq (A,B,C,D,E,F,M)   \n",
       "4880458  11/30/2022 08:00:00 PM                            Wall St (4,5)   \n",
       "\n",
       "                routes   latitude  longitude  \n",
       "2                    6  40.790600 -73.947480  \n",
       "3                    6  40.790600 -73.947480  \n",
       "4                    1  40.799446 -73.968376  \n",
       "5                    L  40.730953 -73.981630  \n",
       "6                    L  40.730953 -73.981630  \n",
       "...                ...        ...        ...  \n",
       "4880452  F,M,C,E,B,A,D  40.732338 -74.000496  \n",
       "4880453            5,4  40.707558 -74.011860  \n",
       "4880455            5,4  40.707558 -74.011860  \n",
       "4880456  F,M,C,E,B,A,D  40.732338 -74.000496  \n",
       "4880458            5,4  40.707558 -74.011860  \n",
       "\n",
       "[1435991 rows x 5 columns]>"
      ]
     },
     "execution_count": 17,
     "metadata": {},
     "output_type": "execute_result"
    }
   ],
   "source": [
    "df.head"
   ]
  },
  {
   "cell_type": "code",
   "execution_count": 18,
   "id": "eced2308",
   "metadata": {},
   "outputs": [
    {
     "data": {
      "text/plain": [
       "Index(['transit_timestamp', 'station_complex', 'routes', 'latitude',\n",
       "       'longitude'],\n",
       "      dtype='object')"
      ]
     },
     "execution_count": 18,
     "metadata": {},
     "output_type": "execute_result"
    }
   ],
   "source": [
    "df.columns"
   ]
  },
  {
   "cell_type": "code",
   "execution_count": 19,
   "id": "e16a5c64",
   "metadata": {},
   "outputs": [
    {
     "data": {
      "text/plain": [
       "<bound method NDFrame.head of 2          01/24/2023 10:00:00 PM\n",
       "3          09/05/2022 11:00:00 AM\n",
       "4          05/08/2022 10:00:00 PM\n",
       "5          05/03/2022 10:00:00 PM\n",
       "6          01/28/2023 06:00:00 PM\n",
       "                    ...          \n",
       "4880452    10/29/2022 06:00:00 AM\n",
       "4880453    01/27/2023 10:00:00 AM\n",
       "4880455    07/15/2022 05:00:00 AM\n",
       "4880456    02/27/2023 06:00:00 AM\n",
       "4880458    11/30/2022 08:00:00 PM\n",
       "Name: transit_timestamp, Length: 1435991, dtype: object>"
      ]
     },
     "execution_count": 19,
     "metadata": {},
     "output_type": "execute_result"
    }
   ],
   "source": [
    "df['transit_timestamp'].head"
   ]
  },
  {
   "cell_type": "code",
   "execution_count": 20,
   "id": "2ac248db",
   "metadata": {},
   "outputs": [
    {
     "data": {
      "text/plain": [
       "<bound method NDFrame.head of 2                                       103 St (6)\n",
       "3                                       103 St (6)\n",
       "4                                       103 St (1)\n",
       "5                                         1 Av (L)\n",
       "6                                         1 Av (L)\n",
       "                            ...                   \n",
       "4880452    West 4 St-Washington Sq (A,B,C,D,E,F,M)\n",
       "4880453                              Wall St (4,5)\n",
       "4880455                              Wall St (4,5)\n",
       "4880456    West 4 St-Washington Sq (A,B,C,D,E,F,M)\n",
       "4880458                              Wall St (4,5)\n",
       "Name: station_complex, Length: 1435991, dtype: object>"
      ]
     },
     "execution_count": 20,
     "metadata": {},
     "output_type": "execute_result"
    }
   ],
   "source": [
    "df['station_complex'].head"
   ]
  },
  {
   "cell_type": "code",
   "execution_count": 21,
   "id": "3cde511c",
   "metadata": {},
   "outputs": [
    {
     "data": {
      "text/plain": [
       "<bound method NDFrame.head of 2                      6\n",
       "3                      6\n",
       "4                      1\n",
       "5                      L\n",
       "6                      L\n",
       "               ...      \n",
       "4880452    F,M,C,E,B,A,D\n",
       "4880453              5,4\n",
       "4880455              5,4\n",
       "4880456    F,M,C,E,B,A,D\n",
       "4880458              5,4\n",
       "Name: routes, Length: 1435991, dtype: object>"
      ]
     },
     "execution_count": 21,
     "metadata": {},
     "output_type": "execute_result"
    }
   ],
   "source": [
    "df['routes'].head"
   ]
  },
  {
   "cell_type": "markdown",
   "id": "07ddedbd",
   "metadata": {},
   "source": [
    "Ok all the routes are together so was hard to actually visualise it or see it properly so i used dummies to extract the route information "
   ]
  },
  {
   "cell_type": "code",
   "execution_count": 22,
   "id": "aca9f34c",
   "metadata": {},
   "outputs": [
    {
     "name": "stdout",
     "output_type": "stream",
     "text": [
      "['1', '2', '3', '4', '5', '6', '7', 'A', 'B', 'C', 'D', 'E', 'F', 'J', 'L', 'M', 'N', 'Q', 'R', 'S', 'W', 'Z']\n"
     ]
    }
   ],
   "source": [
    "# Create dummy variables for each unique value in the 'routes' column\n",
    "dummy_routes = df['routes'].str.get_dummies(sep=',')\n",
    "# Get a list of the dummy variable column names\n",
    "dummy_variables = dummy_routes.columns.tolist()\n",
    "\n",
    "# Print the list of dummy variable names\n",
    "print(dummy_variables)\n",
    "# Concatenate the dummy variables with the original DataFrame\n",
    "df = pd.concat([df, dummy_routes], axis=1)\n"
   ]
  },
  {
   "cell_type": "code",
   "execution_count": 23,
   "id": "75cd2241",
   "metadata": {},
   "outputs": [
    {
     "name": "stdout",
     "output_type": "stream",
     "text": [
      "              transit_timestamp                          station_complex  \\\n",
      "2        01/24/2023 10:00:00 PM                               103 St (6)   \n",
      "3        09/05/2022 11:00:00 AM                               103 St (6)   \n",
      "4        05/08/2022 10:00:00 PM                               103 St (1)   \n",
      "5        05/03/2022 10:00:00 PM                                 1 Av (L)   \n",
      "6        01/28/2023 06:00:00 PM                                 1 Av (L)   \n",
      "...                         ...                                      ...   \n",
      "4880452  10/29/2022 06:00:00 AM  West 4 St-Washington Sq (A,B,C,D,E,F,M)   \n",
      "4880453  01/27/2023 10:00:00 AM                            Wall St (4,5)   \n",
      "4880455  07/15/2022 05:00:00 AM                            Wall St (4,5)   \n",
      "4880456  02/27/2023 06:00:00 AM  West 4 St-Washington Sq (A,B,C,D,E,F,M)   \n",
      "4880458  11/30/2022 08:00:00 PM                            Wall St (4,5)   \n",
      "\n",
      "                routes   latitude  longitude  1  2  3  4  5  ...  F  J  L  M  \\\n",
      "2                    6  40.790600 -73.947480  0  0  0  0  0  ...  0  0  0  0   \n",
      "3                    6  40.790600 -73.947480  0  0  0  0  0  ...  0  0  0  0   \n",
      "4                    1  40.799446 -73.968376  1  0  0  0  0  ...  0  0  0  0   \n",
      "5                    L  40.730953 -73.981630  0  0  0  0  0  ...  0  0  1  0   \n",
      "6                    L  40.730953 -73.981630  0  0  0  0  0  ...  0  0  1  0   \n",
      "...                ...        ...        ... .. .. .. .. ..  ... .. .. .. ..   \n",
      "4880452  F,M,C,E,B,A,D  40.732338 -74.000496  0  0  0  0  0  ...  1  0  0  1   \n",
      "4880453            5,4  40.707558 -74.011860  0  0  0  1  1  ...  0  0  0  0   \n",
      "4880455            5,4  40.707558 -74.011860  0  0  0  1  1  ...  0  0  0  0   \n",
      "4880456  F,M,C,E,B,A,D  40.732338 -74.000496  0  0  0  0  0  ...  1  0  0  1   \n",
      "4880458            5,4  40.707558 -74.011860  0  0  0  1  1  ...  0  0  0  0   \n",
      "\n",
      "         N  Q  R  S  W  Z  \n",
      "2        0  0  0  0  0  0  \n",
      "3        0  0  0  0  0  0  \n",
      "4        0  0  0  0  0  0  \n",
      "5        0  0  0  0  0  0  \n",
      "6        0  0  0  0  0  0  \n",
      "...     .. .. .. .. .. ..  \n",
      "4880452  0  0  0  0  0  0  \n",
      "4880453  0  0  0  0  0  0  \n",
      "4880455  0  0  0  0  0  0  \n",
      "4880456  0  0  0  0  0  0  \n",
      "4880458  0  0  0  0  0  0  \n",
      "\n",
      "[1435991 rows x 27 columns]\n"
     ]
    }
   ],
   "source": [
    "print(df)"
   ]
  },
  {
   "cell_type": "code",
   "execution_count": 24,
   "id": "af03fb1d",
   "metadata": {},
   "outputs": [
    {
     "name": "stderr",
     "output_type": "stream",
     "text": [
      "/var/folders/6q/9wmlbvpj5nqfn_clctmzyck00000gn/T/ipykernel_4630/3131658029.py:1: UserWarning: Could not infer format, so each element will be parsed individually, falling back to `dateutil`. To ensure parsing is consistent and as-expected, please specify a format.\n",
      "  df['transit_timestamp'] = pd.to_datetime(df['transit_timestamp'])\n"
     ]
    }
   ],
   "source": [
    "df['transit_timestamp'] = pd.to_datetime(df['transit_timestamp'])"
   ]
  },
  {
   "cell_type": "code",
   "execution_count": 25,
   "id": "7c62705b",
   "metadata": {},
   "outputs": [],
   "source": [
    "# Splitting into date and time columns\n",
    "df['date'] = df['transit_timestamp'].dt.date\n",
    "df['time'] = df['transit_timestamp'].dt.time"
   ]
  },
  {
   "cell_type": "code",
   "execution_count": 26,
   "id": "202a8b0e",
   "metadata": {},
   "outputs": [
    {
     "data": {
      "text/plain": [
       "<bound method NDFrame.head of           transit_timestamp                          station_complex  \\\n",
       "2       2023-01-24 22:00:00                               103 St (6)   \n",
       "3       2022-09-05 11:00:00                               103 St (6)   \n",
       "4       2022-05-08 22:00:00                               103 St (1)   \n",
       "5       2022-05-03 22:00:00                                 1 Av (L)   \n",
       "6       2023-01-28 18:00:00                                 1 Av (L)   \n",
       "...                     ...                                      ...   \n",
       "4880452 2022-10-29 06:00:00  West 4 St-Washington Sq (A,B,C,D,E,F,M)   \n",
       "4880453 2023-01-27 10:00:00                            Wall St (4,5)   \n",
       "4880455 2022-07-15 05:00:00                            Wall St (4,5)   \n",
       "4880456 2023-02-27 06:00:00  West 4 St-Washington Sq (A,B,C,D,E,F,M)   \n",
       "4880458 2022-11-30 20:00:00                            Wall St (4,5)   \n",
       "\n",
       "                routes   latitude  longitude  1  2  3  4  5  ...  L  M  N  Q  \\\n",
       "2                    6  40.790600 -73.947480  0  0  0  0  0  ...  0  0  0  0   \n",
       "3                    6  40.790600 -73.947480  0  0  0  0  0  ...  0  0  0  0   \n",
       "4                    1  40.799446 -73.968376  1  0  0  0  0  ...  0  0  0  0   \n",
       "5                    L  40.730953 -73.981630  0  0  0  0  0  ...  1  0  0  0   \n",
       "6                    L  40.730953 -73.981630  0  0  0  0  0  ...  1  0  0  0   \n",
       "...                ...        ...        ... .. .. .. .. ..  ... .. .. .. ..   \n",
       "4880452  F,M,C,E,B,A,D  40.732338 -74.000496  0  0  0  0  0  ...  0  1  0  0   \n",
       "4880453            5,4  40.707558 -74.011860  0  0  0  1  1  ...  0  0  0  0   \n",
       "4880455            5,4  40.707558 -74.011860  0  0  0  1  1  ...  0  0  0  0   \n",
       "4880456  F,M,C,E,B,A,D  40.732338 -74.000496  0  0  0  0  0  ...  0  1  0  0   \n",
       "4880458            5,4  40.707558 -74.011860  0  0  0  1  1  ...  0  0  0  0   \n",
       "\n",
       "         R  S  W  Z        date      time  \n",
       "2        0  0  0  0  2023-01-24  22:00:00  \n",
       "3        0  0  0  0  2022-09-05  11:00:00  \n",
       "4        0  0  0  0  2022-05-08  22:00:00  \n",
       "5        0  0  0  0  2022-05-03  22:00:00  \n",
       "6        0  0  0  0  2023-01-28  18:00:00  \n",
       "...     .. .. .. ..         ...       ...  \n",
       "4880452  0  0  0  0  2022-10-29  06:00:00  \n",
       "4880453  0  0  0  0  2023-01-27  10:00:00  \n",
       "4880455  0  0  0  0  2022-07-15  05:00:00  \n",
       "4880456  0  0  0  0  2023-02-27  06:00:00  \n",
       "4880458  0  0  0  0  2022-11-30  20:00:00  \n",
       "\n",
       "[1435991 rows x 29 columns]>"
      ]
     },
     "execution_count": 26,
     "metadata": {},
     "output_type": "execute_result"
    }
   ],
   "source": [
    "df.head"
   ]
  },
  {
   "cell_type": "markdown",
   "id": "4bff242c",
   "metadata": {},
   "source": [
    "Similiar things i did to the other data for taxi just to compare them "
   ]
  },
  {
   "cell_type": "code",
   "execution_count": 27,
   "id": "e9fe86d9",
   "metadata": {},
   "outputs": [],
   "source": [
    "# Define a function to assign time slots\n",
    "def time_slots(x):\n",
    "    if x.hour in range(6, 12):\n",
    "        return 'Morning'\n",
    "    elif x.hour in range(12, 17):\n",
    "        return 'Afternoon'\n",
    "    elif x.hour in range(17, 22):\n",
    "        return 'Evening'\n",
    "    else:\n",
    "        return 'Late Night'\n"
   ]
  },
  {
   "cell_type": "code",
   "execution_count": 28,
   "id": "6456001c",
   "metadata": {},
   "outputs": [],
   "source": [
    "df['timeslots'] = df['time'].apply(time_slots)"
   ]
  },
  {
   "cell_type": "code",
   "execution_count": 29,
   "id": "fb717680",
   "metadata": {},
   "outputs": [
    {
     "name": "stdout",
     "output_type": "stream",
     "text": [
      "Number of unique values for station complex so how many stations do i have \n",
      "120\n"
     ]
    }
   ],
   "source": [
    "unique_counts =df['station_complex'].nunique()\n",
    "# Print the number of unique values for each column\n",
    "print(\"Number of unique values for station complex so how many stations do i have \")\n",
    "print(unique_counts)"
   ]
  },
  {
   "cell_type": "markdown",
   "id": "942b81f2",
   "metadata": {},
   "source": []
  },
  {
   "cell_type": "code",
   "execution_count": 30,
   "id": "31ea3af3",
   "metadata": {},
   "outputs": [
    {
     "name": "stdout",
     "output_type": "stream",
     "text": [
      "Number of routes i have in that area \n",
      "45\n"
     ]
    }
   ],
   "source": [
    "counts =df['routes'].nunique()\n",
    "# Print the number of unique values for each column\n",
    "print(\"Number of routes i have in that area \")\n",
    "print(counts)"
   ]
  },
  {
   "cell_type": "code",
   "execution_count": 31,
   "id": "9f2eabad",
   "metadata": {},
   "outputs": [
    {
     "data": {
      "text/plain": [
       "Index(['transit_timestamp', 'station_complex', 'routes', 'latitude',\n",
       "       'longitude', '1', '2', '3', '4', '5', '6', '7', 'A', 'B', 'C', 'D', 'E',\n",
       "       'F', 'J', 'L', 'M', 'N', 'Q', 'R', 'S', 'W', 'Z', 'date', 'time',\n",
       "       'timeslots'],\n",
       "      dtype='object')"
      ]
     },
     "execution_count": 31,
     "metadata": {},
     "output_type": "execute_result"
    }
   ],
   "source": [
    "df.columns"
   ]
  },
  {
   "cell_type": "code",
   "execution_count": 32,
   "id": "9bf63e54",
   "metadata": {},
   "outputs": [],
   "source": [
    "df.to_csv('mtavisualise.csv', index=False)"
   ]
  }
 ],
 "metadata": {
  "kernelspec": {
   "display_name": "Python 3",
   "language": "python",
   "name": "python3"
  },
  "language_info": {
   "codemirror_mode": {
    "name": "ipython",
    "version": 3
   },
   "file_extension": ".py",
   "mimetype": "text/x-python",
   "name": "python",
   "nbconvert_exporter": "python",
   "pygments_lexer": "ipython3",
   "version": "3.11.2"
  }
 },
 "nbformat": 4,
 "nbformat_minor": 5
}
