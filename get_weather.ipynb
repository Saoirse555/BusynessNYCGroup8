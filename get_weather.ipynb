{
 "cells": [
  {
   "cell_type": "code",
   "execution_count": 1,
   "id": "dd2ff9b4",
   "metadata": {},
   "outputs": [],
   "source": [
    "import requests\n",
    "import json"
   ]
  },
  {
   "cell_type": "code",
   "execution_count": 2,
   "id": "3eee09e8",
   "metadata": {},
   "outputs": [],
   "source": [
    "url = \"https://api.weatherbit.io/v2.0/history/hourly?lat=40.7831&lon=-73.9712&start_date=2022-01-01&end_date=2022-12-31&tz=local&key=ded17cd6cf7f478aa3f1d936efd8c8c4\""
   ]
  },
  {
   "cell_type": "code",
   "execution_count": 3,
   "id": "cce783f1",
   "metadata": {},
   "outputs": [],
   "source": [
    "# set GET request\n",
    "response = requests.get(url)"
   ]
  },
  {
   "cell_type": "code",
   "execution_count": 4,
   "id": "ce6f5472",
   "metadata": {},
   "outputs": [],
   "source": [
    "# Convert the JSON content of the response to a Python dictionary\n",
    "data = response.json()"
   ]
  },
  {
   "cell_type": "code",
   "execution_count": 5,
   "id": "27caa6c8",
   "metadata": {},
   "outputs": [],
   "source": [
    "# Write data to JSON files\n",
    "with open('weather_data.json', 'w') as f:\n",
    "    json.dump(data, f)"
   ]
  },
  {
   "cell_type": "code",
   "execution_count": null,
   "id": "8aedc8c9",
   "metadata": {},
   "outputs": [],
   "source": []
  }
 ],
 "metadata": {
  "kernelspec": {
   "display_name": "Python 3 (ipykernel)",
   "language": "python",
   "name": "python3"
  },
  "language_info": {
   "codemirror_mode": {
    "name": "ipython",
    "version": 3
   },
   "file_extension": ".py",
   "mimetype": "text/x-python",
   "name": "python",
   "nbconvert_exporter": "python",
   "pygments_lexer": "ipython3",
   "version": "3.8.16"
  }
 },
 "nbformat": 4,
 "nbformat_minor": 5
}
