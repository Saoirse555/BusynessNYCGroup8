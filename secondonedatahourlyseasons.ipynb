{
 "cells": [
  {
   "cell_type": "code",
   "execution_count": 1,
   "id": "0e36bd62",
   "metadata": {},
   "outputs": [],
   "source": [
    "import os\n",
    "import glob\n",
    "import pandas as pd\n",
    "import matplotlib.pyplot as plt\n",
    "import pyarrow as pa\n",
    "import pyarrow.parquet as pq\n",
    "import pandas as pd\n",
    "import datetime\n",
    "from pandas.tseries.holiday import USFederalHolidayCalendar as calendar"
   ]
  },
  {
   "attachments": {},
   "cell_type": "markdown",
   "id": "c75ef352",
   "metadata": {},
   "source": [
    "Below I have code to collect all the parquet files in a list and than concataning the files together and printing them in a wrong way. But because I didn't want to keep doing it. It is commented out. I than have the file being read into them.Than I wanted to check shape and columns."
   ]
  },
  {
   "cell_type": "code",
   "execution_count": 2,
   "id": "bce12942",
   "metadata": {},
   "outputs": [
    {
     "data": {
      "text/plain": [
       "(37564080, 23)"
      ]
     },
     "execution_count": 2,
     "metadata": {},
     "output_type": "execute_result"
    }
   ],
   "source": [
    "cleaneddata = pd.read_parquet('cleaneddata.parquet')\n",
    "cleaneddata.shape"
   ]
  },
  {
   "attachments": {},
   "cell_type": "markdown",
   "id": "db7a973d",
   "metadata": {},
   "source": [
    "## All below are just for analysing the data. \n",
    "i broke them down into months, hours, and season, holidays. "
   ]
  },
  {
   "attachments": {},
   "cell_type": "markdown",
   "id": "3e0900eb",
   "metadata": {},
   "source": [
    "Ok firstly I want the month and I just want to order them because it wasnt ordered in mine. And change it to category this is just for analysis though."
   ]
  },
  {
   "cell_type": "code",
   "execution_count": 3,
   "id": "64dd22c8",
   "metadata": {
    "scrolled": true
   },
   "outputs": [],
   "source": [
    "# Extract the month from the datetime columns\n",
    "cleaneddata['pickup_month'] = cleaneddata['tpep_pickup_datetime'].dt.month_name()\n",
    "cleaneddata['dropoff_month'] = cleaneddata['tpep_dropoff_datetime'].dt.month_name()\n",
    "\n",
    "# Define the desired order of months\n",
    "month_order = ['January', 'February', 'March', 'April', 'May', 'June',\n",
    "               'July', 'August', 'September', 'October', 'November', 'December']\n",
    "\n",
    "# Convert the 'pickup_month' and 'dropoff_month' columns to categorical type with the specified order\n",
    "cleaneddata['pickup_month'] = pd.Categorical(cleaneddata['pickup_month'], categories=month_order, ordered=True)\n",
    "cleaneddata['dropoff_month'] = pd.Categorical(cleaneddata['dropoff_month'], categories=month_order, ordered=True)\n",
    "\n",
    "# Sort the DataFrame by the 'pickup_month' column\n",
    "df = cleaneddata.sort_values('pickup_month')"
   ]
  },
  {
   "attachments": {},
   "cell_type": "markdown",
   "id": "b19feaca",
   "metadata": {},
   "source": [
    "This one is to seperate the time and date into two different columns. Just for easier analysis latewr on"
   ]
  },
  {
   "attachments": {},
   "cell_type": "markdown",
   "id": "059fa3ce",
   "metadata": {},
   "source": [
    "I have this test to see if the trip was in one day or a few days like. I wanted to see if it was plausible .As in maybe the trip duration "
   ]
  },
  {
   "cell_type": "code",
   "execution_count": 4,
   "id": "31013417",
   "metadata": {},
   "outputs": [],
   "source": [
    "def round_to_nearest_hour(time):\n",
    "    rounded_time = time.replace(minute=0, second=0)\n",
    "    return rounded_time\n",
    "\n",
    "df['dropoff_time'] = df['dropoff_time'].apply(round_to_nearest_hour)\n",
    "df['pickup_time'] = df['pickup_time'].apply(round_to_nearest_hour)"
   ]
  },
  {
   "cell_type": "code",
   "execution_count": 5,
   "id": "7834a521",
   "metadata": {},
   "outputs": [],
   "source": [
    "# Identify holidays\n",
    "cal = calendar()\n",
    "holidays = cal.holidays(start='2022-01-01', end='2022-12-31')\n",
    "# Convert 'pickup_date' to datetime-like object\n",
    "df['pickup_date'] = pd.to_datetime(df['pickup_date'])\n",
    "\n",
    "# Check if the pickup date is a holiday and assign day types\n",
    "df['holiday'] = df['pickup_date'].isin(holidays)\n",
    "df['week'] = df['pickup_date'].dt.dayofweek\n",
    "df.loc[df['week'] >= 5, 'day_type'] = \"weekend\"\n",
    "df.loc[df['week'] < 5, 'day_type'] = \"workday\"\n",
    "df.loc[df['holiday'] == True, 'day_type'] = \"holiday\""
   ]
  },
  {
   "cell_type": "code",
   "execution_count": 6,
   "id": "0f7aa887",
   "metadata": {},
   "outputs": [
    {
     "name": "stdout",
     "output_type": "stream",
     "text": [
      "          VendorID tpep_pickup_datetime tpep_dropoff_datetime  \\\n",
      "5464533          2  2009-01-01 09:33:43   2009-01-01 10:22:43   \n",
      "10873564         1  2022-01-13 08:19:26   2022-01-13 08:27:05   \n",
      "10873563         2  2022-01-13 08:39:42   2022-01-13 08:46:52   \n",
      "10873562         2  2022-01-13 08:53:15   2022-01-13 08:58:41   \n",
      "10873561         2  2022-01-13 08:25:16   2022-01-13 08:32:56   \n",
      "\n",
      "          passenger_count  trip_distance  RatecodeID store_and_fwd_flag  \\\n",
      "5464533               5.0          10.70         1.0                  N   \n",
      "10873564              1.0           1.20         1.0                  N   \n",
      "10873563              1.0           1.22         1.0                  N   \n",
      "10873562              1.0           0.74         1.0                  N   \n",
      "10873561              1.0           1.39         1.0                  N   \n",
      "\n",
      "          PULocationID  DOLocationID  payment_type  ...  airport_fee  \\\n",
      "5464533            138           162             1  ...          0.0   \n",
      "10873564           236           237             1  ...          0.0   \n",
      "10873563            68           170             1  ...          0.0   \n",
      "10873562           142           143             2  ...          0.0   \n",
      "10873561           186           170             1  ...          0.0   \n",
      "\n",
      "          pickup_date  pickup_time  dropoff_date  dropoff_time  pickup_month  \\\n",
      "5464533    2009-01-01     09:00:00    2009-01-01      10:00:00       January   \n",
      "10873564   2022-01-13     08:00:00    2022-01-13      08:00:00       January   \n",
      "10873563   2022-01-13     08:00:00    2022-01-13      08:00:00       January   \n",
      "10873562   2022-01-13     08:00:00    2022-01-13      08:00:00       January   \n",
      "10873561   2022-01-13     08:00:00    2022-01-13      08:00:00       January   \n",
      "\n",
      "          dropoff_month  holiday  week day_type  \n",
      "5464533         January    False     3  workday  \n",
      "10873564        January    False     3  workday  \n",
      "10873563        January    False     3  workday  \n",
      "10873562        January    False     3  workday  \n",
      "10873561        January    False     3  workday  \n",
      "\n",
      "[5 rows x 28 columns]\n"
     ]
    }
   ],
   "source": [
    "print(df.head())"
   ]
  },
  {
   "cell_type": "code",
   "execution_count": 7,
   "id": "5de26644",
   "metadata": {
    "scrolled": true
   },
   "outputs": [],
   "source": [
    "# # Drop the 'holiday' and 'week' columns\n",
    "# df = df.drop(['holiday', 'week'], axis=1)\n",
    "\n",
    "# Define a function to assign time slots\n",
    "def time_slots(x):\n",
    "    if x.hour in range(6, 12):\n",
    "        return 'Morning'\n",
    "    elif x.hour in range(12, 17):\n",
    "        return 'Afternoon'\n",
    "    elif x.hour in range(17, 22):\n",
    "        return 'Evening'\n",
    "    else:\n",
    "        return 'Late Night'\n",
    "\n",
    "# Apply the time_slots function to 'tpep_pickup_datetime'\n",
    "df['dropoff_timeslots'] = df['dropoff_time'].apply(time_slots)\n",
    "df['pickup_timeslots'] = df['pickup_time'].apply(time_slots)\n",
    "\n",
    "# Print the updated DataFrame\n",
    "# print(df.head())"
   ]
  },
  {
   "attachments": {},
   "cell_type": "markdown",
   "id": "2f2ac945",
   "metadata": {},
   "source": [
    "Ok below is seasons just to make sure I have all the seasons here so that I can analysis the data."
   ]
  },
  {
   "cell_type": "code",
   "execution_count": 8,
   "id": "fb7dd606",
   "metadata": {
    "scrolled": true
   },
   "outputs": [
    {
     "data": {
      "text/plain": [
       "VendorID                          int64\n",
       "tpep_pickup_datetime     datetime64[ns]\n",
       "tpep_dropoff_datetime    datetime64[ns]\n",
       "passenger_count                 float64\n",
       "trip_distance                   float64\n",
       "RatecodeID                      float64\n",
       "store_and_fwd_flag               object\n",
       "PULocationID                      int64\n",
       "DOLocationID                      int64\n",
       "payment_type                      int64\n",
       "fare_amount                     float64\n",
       "extra                           float64\n",
       "mta_tax                         float64\n",
       "tip_amount                      float64\n",
       "tolls_amount                    float64\n",
       "improvement_surcharge           float64\n",
       "total_amount                    float64\n",
       "congestion_surcharge            float64\n",
       "airport_fee                     float64\n",
       "pickup_date              datetime64[ns]\n",
       "pickup_time                      object\n",
       "dropoff_date                     object\n",
       "dropoff_time                     object\n",
       "pickup_month                   category\n",
       "dropoff_month                  category\n",
       "holiday                            bool\n",
       "week                              int32\n",
       "day_type                         object\n",
       "dropoff_timeslots                object\n",
       "pickup_timeslots                 object\n",
       "dtype: object"
      ]
     },
     "execution_count": 8,
     "metadata": {},
     "output_type": "execute_result"
    }
   ],
   "source": [
    "df.dtypes"
   ]
  },
  {
   "cell_type": "code",
   "execution_count": 9,
   "id": "c8f87c80",
   "metadata": {},
   "outputs": [],
   "source": [
    "# dataset_year = pd.to_datetime(df['tpep_pickup_datetime']).dt.year.unique()[0]\n",
    "\n",
    "# winter_start = pd.to_datetime('2022-01-01').date()\n",
    "# winter_end = pd.to_datetime('2022-02-28').date()\n",
    "# spring_start = pd.to_datetime('2022-03-01').date()\n",
    "# spring_end = pd.to_datetime('2022-05-31').date()\n",
    "# summer_start = pd.to_datetime('2022-06-01').date()\n",
    "# summer_end = pd.to_datetime('2022-08-31').date()\n",
    "# autumn_start = pd.to_datetime('2022-09-01').date()\n",
    "# autumn_end = pd.to_datetime('2022-11-30').date()\n",
    "\n",
    "# # Set the 'season' value based on the date range\n",
    "# df['tpep_pickup_datetime'] = pd.to_datetime(df['tpep_pickup_datetime']).dt.date\n",
    "# df['season'] = pd.NA\n",
    "# df.loc[(df['tpep_pickup_datetime'] >= winter_start) & (df['tpep_pickup_datetime'] <= winter_end), 'season'] = 'winter'\n",
    "# df.loc[(df['tpep_pickup_datetime'] >= spring_start) & (df['tpep_pickup_datetime'] <= spring_end), 'season'] = 'spring'\n",
    "# df.loc[(df['tpep_pickup_datetime'] >= summer_start) & (df['tpep_pickup_datetime'] <= summer_end), 'season'] = 'summer'\n",
    "# df.loc[(df['tpep_pickup_datetime'] >= autumn_start) & (df['tpep_pickup_datetime'] <= autumn_end), 'season'] = 'autumn'\n",
    "\n",
    "# # Filter the DataFrame for each season\n",
    "# winter_data = df[df['season'] == 'winter']\n",
    "# spring_data = df[df['season'] == 'spring']\n",
    "# summer_data = df[df['season'] == 'summer']\n",
    "# autumn_data = df[df['season'] == 'autumn']\n",
    "\n",
    "# # Count the number of NaN values in the 'season' column\n",
    "# nan_counts = df['season'].isna().sum()\n",
    "\n",
    "# # Print the results\n",
    "# print(\"Number of NaN values in 'season' column:\", nan_counts)"
   ]
  },
  {
   "cell_type": "code",
   "execution_count": 10,
   "id": "b91d7d9e",
   "metadata": {},
   "outputs": [
    {
     "name": "stdout",
     "output_type": "stream",
     "text": [
      "Number of NaN values in 'season' column: 0\n"
     ]
    }
   ],
   "source": [
    "# Extract the month from the pickup datetime column\n",
    "df['pickup_month'] = pd.to_datetime(df['tpep_pickup_datetime']).dt.month_name()\n",
    "\n",
    "# Set the 'season' value based on the month\n",
    "df['season'] = pd.NA\n",
    "df.loc[df['pickup_month'].isin(['December', 'January', 'February']), 'season'] = 'winter'\n",
    "df.loc[df['pickup_month'].isin(['March', 'April', 'May']), 'season'] = 'spring'\n",
    "df.loc[df['pickup_month'].isin(['June', 'July', 'August']), 'season'] = 'summer'\n",
    "df.loc[df['pickup_month'].isin(['September', 'October', 'November']), 'season'] = 'autumn'\n",
    "\n",
    "# Filter the DataFrame for each season\n",
    "winter_data = df[df['season'] == 'winter']\n",
    "spring_data = df[df['season'] == 'spring']\n",
    "summer_data = df[df['season'] == 'summer']\n",
    "autumn_data = df[df['season'] == 'autumn']\n",
    "\n",
    "# Count the number of NaN values in the 'season' column\n",
    "nan_counts = df['season'].isna().sum()\n",
    "\n",
    "# Print the results\n",
    "print(\"Number of NaN values in 'season' column:\", nan_counts)"
   ]
  },
  {
   "cell_type": "code",
   "execution_count": 11,
   "id": "36a44d46",
   "metadata": {},
   "outputs": [
    {
     "name": "stdout",
     "output_type": "stream",
     "text": [
      "Unique passenger values:\n",
      "[5. 1. 0. 4. 3. 6. 2. 8. 9. 7.]\n",
      "Value counts for passenger:\n",
      "passenger_count\n",
      "1.0    27709407\n",
      "2.0     5767000\n",
      "3.0     1514038\n",
      "0.0      746241\n",
      "4.0      690121\n",
      "5.0      680918\n",
      "6.0      456204\n",
      "7.0          79\n",
      "8.0          55\n",
      "9.0          17\n",
      "Name: count, dtype: int64\n"
     ]
    }
   ],
   "source": [
    "# Get the unique values for the \"passenger\" column\n",
    "passenger_values = df['passenger_count'].unique()\n",
    "\n",
    "# Print the unique values\n",
    "print(\"Unique passenger values:\")\n",
    "print(passenger_values)\n",
    "\n",
    "# Count the occurrences of each unique value in the \"passenger\" column\n",
    "passenger_counts = df['passenger_count'].value_counts()\n",
    "\n",
    "# Print the counts\n",
    "print(\"Value counts for passenger:\")\n",
    "print(passenger_counts)"
   ]
  },
  {
   "cell_type": "code",
   "execution_count": 12,
   "id": "d7a1c12f",
   "metadata": {},
   "outputs": [
    {
     "name": "stdout",
     "output_type": "stream",
     "text": [
      "Percentage for each passenger count:\n",
      "passenger_count\n",
      "1.0    73.765701\n",
      "2.0    15.352432\n",
      "3.0     4.030547\n",
      "0.0     1.986581\n",
      "4.0     1.837183\n",
      "5.0     1.812684\n",
      "6.0     1.214469\n",
      "7.0     0.000210\n",
      "8.0     0.000146\n",
      "9.0     0.000045\n",
      "Name: count, dtype: float64\n"
     ]
    }
   ],
   "source": [
    "passenger_counts = df['passenger_count'].value_counts()\n",
    "\n",
    "# Calculate the percentage for each value\n",
    "passenger_percentage = passenger_counts / len(df) * 100\n",
    "\n",
    "# Print the percentages\n",
    "print(\"Percentage for each passenger count:\")\n",
    "print(passenger_percentage)"
   ]
  },
  {
   "cell_type": "code",
   "execution_count": 13,
   "id": "4224ca49",
   "metadata": {},
   "outputs": [
    {
     "name": "stdout",
     "output_type": "stream",
     "text": [
      "VendorID                          int64\n",
      "tpep_pickup_datetime     datetime64[ns]\n",
      "tpep_dropoff_datetime    datetime64[ns]\n",
      "passenger_count                 float64\n",
      "trip_distance                   float64\n",
      "RatecodeID                      float64\n",
      "store_and_fwd_flag               object\n",
      "PULocationID                      int64\n",
      "DOLocationID                      int64\n",
      "payment_type                      int64\n",
      "fare_amount                     float64\n",
      "extra                           float64\n",
      "mta_tax                         float64\n",
      "tip_amount                      float64\n",
      "tolls_amount                    float64\n",
      "improvement_surcharge           float64\n",
      "total_amount                    float64\n",
      "congestion_surcharge            float64\n",
      "airport_fee                     float64\n",
      "pickup_date              datetime64[ns]\n",
      "pickup_time                      object\n",
      "dropoff_date                     object\n",
      "dropoff_time                     object\n",
      "pickup_month                     object\n",
      "dropoff_month                  category\n",
      "holiday                            bool\n",
      "week                              int32\n",
      "day_type                         object\n",
      "dropoff_timeslots                object\n",
      "pickup_timeslots                 object\n",
      "season                           object\n",
      "dtype: object\n"
     ]
    }
   ],
   "source": [
    "print(df.dtypes) "
   ]
  },
  {
   "cell_type": "code",
   "execution_count": 14,
   "id": "679a5dcd",
   "metadata": {},
   "outputs": [],
   "source": [
    "# Assuming 'combined_df' is your DataFrame and 'column1', 'column2', 'column3' are the columns you want to drop\n",
    "combination = df.drop(['trip_distance','VendorID', 'tolls_amount', 'extra','tolls_amount','improvement_surcharge','total_amount','congestion_surcharge','airport_fee','store_and_fwd_flag','tip_amount','mta_tax','payment_type','fare_amount','RatecodeID'], axis=1)"
   ]
  },
  {
   "cell_type": "code",
   "execution_count": 15,
   "id": "fa6d0f3f",
   "metadata": {},
   "outputs": [
    {
     "name": "stdout",
     "output_type": "stream",
     "text": [
      "         tpep_pickup_datetime tpep_dropoff_datetime  passenger_count  \\\n",
      "5464533   2009-01-01 09:33:43   2009-01-01 10:22:43              5.0   \n",
      "10873564  2022-01-13 08:19:26   2022-01-13 08:27:05              1.0   \n",
      "10873563  2022-01-13 08:39:42   2022-01-13 08:46:52              1.0   \n",
      "10873562  2022-01-13 08:53:15   2022-01-13 08:58:41              1.0   \n",
      "10873561  2022-01-13 08:25:16   2022-01-13 08:32:56              1.0   \n",
      "...                       ...                   ...              ...   \n",
      "25186517  2022-12-27 10:58:39   2022-12-27 11:03:38              3.0   \n",
      "25186516  2022-12-27 10:29:43   2022-12-27 10:38:31              1.0   \n",
      "25186515  2022-12-27 10:19:25   2022-12-27 10:25:40              2.0   \n",
      "25186537  2022-12-27 10:44:25   2022-12-27 10:47:30              1.0   \n",
      "23004455  2022-12-06 17:37:16   2022-12-06 19:01:46              2.0   \n",
      "\n",
      "          PULocationID  DOLocationID pickup_date pickup_time dropoff_date  \\\n",
      "5464533            138           162  2009-01-01    09:00:00   2009-01-01   \n",
      "10873564           236           237  2022-01-13    08:00:00   2022-01-13   \n",
      "10873563            68           170  2022-01-13    08:00:00   2022-01-13   \n",
      "10873562           142           143  2022-01-13    08:00:00   2022-01-13   \n",
      "10873561           186           170  2022-01-13    08:00:00   2022-01-13   \n",
      "...                ...           ...         ...         ...          ...   \n",
      "25186517           239           142  2022-12-27    10:00:00   2022-12-27   \n",
      "25186516           239           236  2022-12-27    10:00:00   2022-12-27   \n",
      "25186515           239           143  2022-12-27    10:00:00   2022-12-27   \n",
      "25186537           237           162  2022-12-27    10:00:00   2022-12-27   \n",
      "23004455            87           132  2022-12-06    17:00:00   2022-12-06   \n",
      "\n",
      "         dropoff_time pickup_month dropoff_month  holiday  week day_type  \\\n",
      "5464533      10:00:00      January       January    False     3  workday   \n",
      "10873564     08:00:00      January       January    False     3  workday   \n",
      "10873563     08:00:00      January       January    False     3  workday   \n",
      "10873562     08:00:00      January       January    False     3  workday   \n",
      "10873561     08:00:00      January       January    False     3  workday   \n",
      "...               ...          ...           ...      ...   ...      ...   \n",
      "25186517     11:00:00     December      December    False     1  workday   \n",
      "25186516     10:00:00     December      December    False     1  workday   \n",
      "25186515     10:00:00     December      December    False     1  workday   \n",
      "25186537     10:00:00     December      December    False     1  workday   \n",
      "23004455     19:00:00     December      December    False     1  workday   \n",
      "\n",
      "         dropoff_timeslots pickup_timeslots  season  \n",
      "5464533            Morning          Morning  winter  \n",
      "10873564           Morning          Morning  winter  \n",
      "10873563           Morning          Morning  winter  \n",
      "10873562           Morning          Morning  winter  \n",
      "10873561           Morning          Morning  winter  \n",
      "...                    ...              ...     ...  \n",
      "25186517           Morning          Morning  winter  \n",
      "25186516           Morning          Morning  winter  \n",
      "25186515           Morning          Morning  winter  \n",
      "25186537           Morning          Morning  winter  \n",
      "23004455           Evening          Evening  winter  \n",
      "\n",
      "[37564080 rows x 17 columns]\n"
     ]
    }
   ],
   "source": [
    "print(combination)"
   ]
  },
  {
   "cell_type": "code",
   "execution_count": 16,
   "id": "45be4132",
   "metadata": {},
   "outputs": [
    {
     "name": "stdout",
     "output_type": "stream",
     "text": [
      "NaN counts for each column:\n",
      "tpep_pickup_datetime     0\n",
      "tpep_dropoff_datetime    0\n",
      "passenger_count          0\n",
      "PULocationID             0\n",
      "DOLocationID             0\n",
      "pickup_date              0\n",
      "pickup_time              0\n",
      "dropoff_date             0\n",
      "dropoff_time             0\n",
      "pickup_month             0\n",
      "dropoff_month            0\n",
      "holiday                  0\n",
      "week                     0\n",
      "day_type                 0\n",
      "dropoff_timeslots        0\n",
      "pickup_timeslots         0\n",
      "season                   0\n",
      "dtype: int64\n"
     ]
    }
   ],
   "source": [
    "nan_counts = combination.isna().sum()\n",
    "print(\"NaN counts for each column:\")\n",
    "print(nan_counts)"
   ]
  },
  {
   "cell_type": "code",
   "execution_count": 17,
   "id": "99cf8ece",
   "metadata": {},
   "outputs": [],
   "source": [
    "# Drop rows with any missing values\n",
    "combinations = combination.dropna()"
   ]
  },
  {
   "cell_type": "code",
   "execution_count": 18,
   "id": "d7c51ca6",
   "metadata": {},
   "outputs": [
    {
     "name": "stdout",
     "output_type": "stream",
     "text": [
      "Index(['tpep_pickup_datetime', 'tpep_dropoff_datetime', 'passenger_count',\n",
      "       'PULocationID', 'DOLocationID', 'pickup_date', 'pickup_time',\n",
      "       'dropoff_date', 'dropoff_time', 'pickup_month', 'dropoff_month',\n",
      "       'holiday', 'week', 'day_type', 'dropoff_timeslots', 'pickup_timeslots',\n",
      "       'season'],\n",
      "      dtype='object')\n"
     ]
    }
   ],
   "source": [
    "print(combinations.columns)\n",
    "filtered_table = pa.Table.from_pandas(combinations)\n",
    "pq.write_table(filtered_table, 'dataforanalysing.parquet')"
   ]
  }
 ],
 "metadata": {
  "kernelspec": {
   "display_name": "Python 3 (ipykernel)",
   "language": "python",
   "name": "python3"
  },
  "language_info": {
   "codemirror_mode": {
    "name": "ipython",
    "version": 3
   },
   "file_extension": ".py",
   "mimetype": "text/x-python",
   "name": "python",
   "nbconvert_exporter": "python",
   "pygments_lexer": "ipython3",
   "version": "3.11.2"
  }
 },
 "nbformat": 4,
 "nbformat_minor": 5
}
