{
 "cells": [
  {
   "cell_type": "code",
   "execution_count": 1,
   "id": "52e8e423",
   "metadata": {},
   "outputs": [],
   "source": [
    "import xgboost as xgb\n",
    "from sklearn.model_selection import train_test_split\n",
    "from sklearn.metrics import accuracy_score\n",
    "import pandas as pd\n",
    "from sklearn.preprocessing import OneHotEncoder\n",
    "from sklearn.metrics import mean_squared_error\n",
    "import numpy as np\n",
    "from sklearn.metrics import mean_squared_error\n",
    "from sklearn.metrics import mean_absolute_error\n",
    "\n"
   ]
  },
  {
   "cell_type": "code",
   "execution_count": 2,
   "id": "e953c7b0",
   "metadata": {},
   "outputs": [],
   "source": [
    "# Read the CSV file\n",
    "df = pd.read_csv('dataformodeltraining1.csv')"
   ]
  },
  {
   "cell_type": "code",
   "execution_count": 3,
   "id": "f344709a",
   "metadata": {},
   "outputs": [
    {
     "data": {
      "text/plain": [
       "Index(['LocationID', 'date', 'time', 'day_type', 'holiday', 'busyness', 'temp',\n",
       "       'weather_description'],\n",
       "      dtype='object')"
      ]
     },
     "execution_count": 3,
     "metadata": {},
     "output_type": "execute_result"
    }
   ],
   "source": [
    "df.columns"
   ]
  },
  {
   "cell_type": "code",
   "execution_count": 4,
   "id": "18b7df1d",
   "metadata": {},
   "outputs": [
    {
     "data": {
      "text/plain": [
       "<bound method NDFrame.head of         LocationID   date      time day_type  holiday  busyness  temp  \\\n",
       "0                4  01-17  00:00:00  workday        1      5.00   2.8   \n",
       "1               13  01-17  00:00:00  workday        1      1.50   2.8   \n",
       "2               24  01-17  00:00:00  workday        1      0.75   2.8   \n",
       "3               41  01-17  00:00:00  workday        1      3.50   2.8   \n",
       "4               42  01-17  00:00:00  workday        1      2.25   2.8   \n",
       "...            ...    ...       ...      ...      ...       ...   ...   \n",
       "510553         239  12-01  16:00:00  workday        0      0.50   5.6   \n",
       "510554         249  12-01  16:00:00  workday        0      0.50   5.6   \n",
       "510555         236  12-01  09:00:00  workday        0      1.00   3.3   \n",
       "510556         237  12-01  09:00:00  workday        0      0.50   3.3   \n",
       "510557         249  12-01  01:00:00  workday        0      0.50   4.4   \n",
       "\n",
       "       weather_description  \n",
       "0                     Snow  \n",
       "1                     Snow  \n",
       "2                     Snow  \n",
       "3                     Snow  \n",
       "4                     Snow  \n",
       "...                    ...  \n",
       "510553           Clear Sky  \n",
       "510554           Clear Sky  \n",
       "510555              Cloudy  \n",
       "510556              Cloudy  \n",
       "510557              Cloudy  \n",
       "\n",
       "[510558 rows x 8 columns]>"
      ]
     },
     "execution_count": 4,
     "metadata": {},
     "output_type": "execute_result"
    }
   ],
   "source": [
    "df.head"
   ]
  },
  {
   "cell_type": "code",
   "execution_count": 5,
   "id": "e9ad5110",
   "metadata": {},
   "outputs": [
    {
     "name": "stderr",
     "output_type": "stream",
     "text": [
      "/var/folders/6q/9wmlbvpj5nqfn_clctmzyck00000gn/T/ipykernel_1799/3101677476.py:7: UserWarning: Could not infer format, so each element will be parsed individually, falling back to `dateutil`. To ensure parsing is consistent and as-expected, please specify a format.\n",
      "  df['time'] = pd.to_datetime(df['time']).dt.hour * 3600 + pd.to_datetime(df['time']).dt.minute * 60 + pd.to_datetime(df['time']).dt.second\n",
      "/var/folders/6q/9wmlbvpj5nqfn_clctmzyck00000gn/T/ipykernel_1799/3101677476.py:7: UserWarning: Could not infer format, so each element will be parsed individually, falling back to `dateutil`. To ensure parsing is consistent and as-expected, please specify a format.\n",
      "  df['time'] = pd.to_datetime(df['time']).dt.hour * 3600 + pd.to_datetime(df['time']).dt.minute * 60 + pd.to_datetime(df['time']).dt.second\n",
      "/var/folders/6q/9wmlbvpj5nqfn_clctmzyck00000gn/T/ipykernel_1799/3101677476.py:7: UserWarning: Could not infer format, so each element will be parsed individually, falling back to `dateutil`. To ensure parsing is consistent and as-expected, please specify a format.\n",
      "  df['time'] = pd.to_datetime(df['time']).dt.hour * 3600 + pd.to_datetime(df['time']).dt.minute * 60 + pd.to_datetime(df['time']).dt.second\n"
     ]
    }
   ],
   "source": [
    "df['time'] = pd.to_datetime(df['time']).dt.hour * 3600 + pd.to_datetime(df['time']).dt.minute * 60 + pd.to_datetime(df['time']).dt.second\n",
    "df['weather_description'] = pd.Categorical(df['weather_description'])\n",
    "df['weather_description'] = df['weather_description'].cat.codes"
   ]
  },
  {
   "cell_type": "code",
   "execution_count": 6,
   "id": "c9c4c969",
   "metadata": {},
   "outputs": [
    {
     "name": "stderr",
     "output_type": "stream",
     "text": [
      "/Users/saoirse/miniconda3/envs/mayaisawesome/lib/python3.11/site-packages/sklearn/preprocessing/_encoders.py:972: FutureWarning: `sparse` was renamed to `sparse_output` in version 1.2 and will be removed in 1.4. `sparse_output` is ignored unless you leave `sparse` to its default value.\n",
      "  warnings.warn(\n"
     ]
    }
   ],
   "source": [
    "# Encode categorical columns using one-hot encoding\n",
    "encoder = OneHotEncoder(sparse=False, handle_unknown='ignore')\n",
    "cat_columns = ['date', 'day_type']\n",
    "encoded_cols = encoder.fit_transform(df[cat_columns])\n",
    "encoded_df = pd.DataFrame(encoded_cols)\n",
    "\n",
    "# Create unique feature names for the encoded columns\n",
    "feature_names = []\n",
    "for i, column in enumerate(cat_columns):\n",
    "    unique_categories = encoder.categories_[i]\n",
    "    for category in unique_categories:\n",
    "        feature_names.append(f'{column}_{category}')\n",
    "\n",
    "encoded_df.columns = feature_names\n",
    "\n",
    "df = pd.concat([df.drop(columns=cat_columns), encoded_df], axis=1)\n"
   ]
  },
  {
   "cell_type": "code",
   "execution_count": 7,
   "id": "87e098d2",
   "metadata": {},
   "outputs": [
    {
     "name": "stdout",
     "output_type": "stream",
     "text": [
      "LocationID            int64\n",
      "time                  int32\n",
      "holiday               int64\n",
      "busyness            float64\n",
      "temp                float64\n",
      "                     ...   \n",
      "date_11-29          float64\n",
      "date_11-30          float64\n",
      "date_12-01          float64\n",
      "day_type_weekend    float64\n",
      "day_type_workday    float64\n",
      "Length: 343, dtype: object\n"
     ]
    }
   ],
   "source": [
    "print(df.dtypes)"
   ]
  },
  {
   "cell_type": "code",
   "execution_count": 16,
   "id": "11935588",
   "metadata": {},
   "outputs": [
    {
     "data": {
      "text/plain": [
       "(510558, 343)"
      ]
     },
     "execution_count": 16,
     "metadata": {},
     "output_type": "execute_result"
    }
   ],
   "source": [
    "df.shape"
   ]
  },
  {
   "cell_type": "code",
   "execution_count": 8,
   "id": "3c8f3b3f",
   "metadata": {},
   "outputs": [],
   "source": [
    "# Select the relevant columns for X (features)\n",
    "X = df.drop(columns=['busyness'])\n",
    "\n",
    "# Select the target variable y (busyness)\n",
    "y = df['busyness']"
   ]
  },
  {
   "cell_type": "code",
   "execution_count": 9,
   "id": "03f9544e",
   "metadata": {},
   "outputs": [],
   "source": [
    "# Split the data into training and testing sets\n",
    "X_train, X_test, y_train, y_test = train_test_split(X, y, test_size=0.2, random_state=42)"
   ]
  },
  {
   "cell_type": "code",
   "execution_count": 10,
   "id": "8b6cd7f8",
   "metadata": {},
   "outputs": [],
   "source": [
    "# Convert the data into DMatrix format, which is required by XGBoost\n",
    "dtrain = xgb.DMatrix(X_train, label=y_train)\n",
    "dtest = xgb.DMatrix(X_test, label=y_test)"
   ]
  },
  {
   "cell_type": "code",
   "execution_count": 11,
   "id": "569a8080",
   "metadata": {},
   "outputs": [],
   "source": [
    "# # Set the parameters for the XGBoost model\n",
    "# params = {\n",
    "#     'max_depth': 3,\n",
    "#     'eta': 0.1,\n",
    "#     'objective': 'binary:logistic',\n",
    "#     'eval_metric': 'error'\n",
    "# }"
   ]
  },
  {
   "cell_type": "code",
   "execution_count": 12,
   "id": "632c6fa4",
   "metadata": {},
   "outputs": [],
   "source": [
    "\n",
    "# Set the parameters for XGBoost\n",
    "params = {\n",
    "    'objective': 'reg:squarederror',\n",
    "    'eta': 0.1,\n",
    "    'max_depth': 5,\n",
    "    'subsample': 0.8,\n",
    "    'colsample_bytree': 0.8\n",
    "}\n",
    "\n",
    "# Train the XGBoost model\n",
    "num_rounds = 100\n",
    "model = xgb.train(params, dtrain, num_rounds)"
   ]
  },
  {
   "cell_type": "code",
   "execution_count": 14,
   "id": "07d6341c",
   "metadata": {},
   "outputs": [
    {
     "name": "stdout",
     "output_type": "stream",
     "text": [
      "RMSE: 16.383051684617325\n",
      "Mean Absolute Error: 10.371957791547338\n",
      "Root Mean Squared Error: 16.383051684617325\n"
     ]
    }
   ],
   "source": [
    "\n",
    "# Make predictions on the test set\n",
    "y_pred = model.predict(dtest)\n",
    "\n",
    "# Calculate RMSE\n",
    "rmse = mean_squared_error(y_test, y_pred, squared=False)\n",
    "print(\"RMSE:\", rmse)\n",
    "\n",
    "mae = mean_absolute_error(y_test, y_pred)\n",
    "print(\"Mean Absolute Error:\", mae)\n",
    "\n",
    "mse = mean_squared_error(y_test, y_pred)\n",
    "rmse = np.sqrt(mse)\n",
    "print(\"Root Mean Squared Error:\", rmse)"
   ]
  }
 ],
 "metadata": {
  "kernelspec": {
   "display_name": "Python 3 (ipykernel)",
   "language": "python",
   "name": "python3"
  },
  "language_info": {
   "codemirror_mode": {
    "name": "ipython",
    "version": 3
   },
   "file_extension": ".py",
   "mimetype": "text/x-python",
   "name": "python",
   "nbconvert_exporter": "python",
   "pygments_lexer": "ipython3",
   "version": "3.11.2"
  }
 },
 "nbformat": 4,
 "nbformat_minor": 5
}
